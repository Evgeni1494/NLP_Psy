{
 "cells": [
  {
   "attachments": {},
   "cell_type": "markdown",
   "metadata": {},
   "source": [
    "# Imports"
   ]
  },
  {
   "cell_type": "code",
   "execution_count": 52,
   "metadata": {},
   "outputs": [],
   "source": [
    "import nltk\n",
    "import numpy as np\n",
    "import pandas as pd\n",
    "from nltk.corpus import stopwords\n",
    "from nltk.tokenize import word_tokenize\n",
    "\n"
   ]
  },
  {
   "cell_type": "code",
   "execution_count": 30,
   "metadata": {},
   "outputs": [],
   "source": [
    "data = pd.read_csv('Emotion_final.csv')"
   ]
  },
  {
   "cell_type": "code",
   "execution_count": 37,
   "metadata": {},
   "outputs": [
    {
     "name": "stderr",
     "output_type": "stream",
     "text": [
      "[nltk_data] Downloading package stopwords to\n",
      "[nltk_data]     /home/apprenant/nltk_data...\n",
      "[nltk_data]   Unzipping corpora/stopwords.zip.\n"
     ]
    },
    {
     "data": {
      "text/plain": [
       "True"
      ]
     },
     "execution_count": 37,
     "metadata": {},
     "output_type": "execute_result"
    }
   ],
   "source": [
    "# nltk.download('stopwords') Charger les StopWords dans NLTK\n",
    "# nltk.download('punkt') Charger la punctuation dans NLTK"
   ]
  },
  {
   "attachments": {},
   "cell_type": "markdown",
   "metadata": {},
   "source": [
    "# Consignes"
   ]
  },
  {
   "attachments": {},
   "cell_type": "markdown",
   "metadata": {},
   "source": [
    "A partir du jeu de données et à l'aide la librairie NLTK ou de la librairie Spacy, vous pouvez même essayez texthero:\n",
    "- étudier la répartition des textes par émotions\n",
    "- identifiez quels mots sont susceptibles d'être des stopword\n",
    "- pour chaque sentiment, identifiez les 30 mots les plus courants pour chaque sentiment en dehors des stopwords\n",
    "- A partir de ces 30 mots, définissez une métrique de proximité entre les sentiments et affichez-la sur une matrice type heatmap.\n",
    "- Créer deux premiers modèles (Bag of words et TF IDF) en gérant les étapes de tokenisation, de gestion de la ponctuation, des émojis, des stopwords, de lemmatisation ou de streaming.\n",
    "\n",
    "Le rendu du premier de temps se fera dans un notebook.\n"
   ]
  },
  {
   "attachments": {},
   "cell_type": "markdown",
   "metadata": {},
   "source": [
    "# Appercu"
   ]
  },
  {
   "cell_type": "code",
   "execution_count": 3,
   "metadata": {},
   "outputs": [
    {
     "name": "stdout",
     "output_type": "stream",
     "text": [
      "<class 'pandas.core.frame.DataFrame'>\n",
      "RangeIndex: 21459 entries, 0 to 21458\n",
      "Data columns (total 2 columns):\n",
      " #   Column   Non-Null Count  Dtype \n",
      "---  ------   --------------  ----- \n",
      " 0   Text     21459 non-null  object\n",
      " 1   Emotion  21459 non-null  object\n",
      "dtypes: object(2)\n",
      "memory usage: 335.4+ KB\n"
     ]
    }
   ],
   "source": [
    "data.info()"
   ]
  },
  {
   "cell_type": "code",
   "execution_count": 14,
   "metadata": {},
   "outputs": [
    {
     "data": {
      "text/html": [
       "<div>\n",
       "<style scoped>\n",
       "    .dataframe tbody tr th:only-of-type {\n",
       "        vertical-align: middle;\n",
       "    }\n",
       "\n",
       "    .dataframe tbody tr th {\n",
       "        vertical-align: top;\n",
       "    }\n",
       "\n",
       "    .dataframe thead th {\n",
       "        text-align: right;\n",
       "    }\n",
       "</style>\n",
       "<table border=\"1\" class=\"dataframe\">\n",
       "  <thead>\n",
       "    <tr style=\"text-align: right;\">\n",
       "      <th></th>\n",
       "      <th>Text</th>\n",
       "      <th>Emotion</th>\n",
       "    </tr>\n",
       "  </thead>\n",
       "  <tbody>\n",
       "    <tr>\n",
       "      <th>count</th>\n",
       "      <td>21459</td>\n",
       "      <td>21459</td>\n",
       "    </tr>\n",
       "    <tr>\n",
       "      <th>unique</th>\n",
       "      <td>21405</td>\n",
       "      <td>6</td>\n",
       "    </tr>\n",
       "    <tr>\n",
       "      <th>top</th>\n",
       "      <td>i feel so tortured by it</td>\n",
       "      <td>happy</td>\n",
       "    </tr>\n",
       "    <tr>\n",
       "      <th>freq</th>\n",
       "      <td>2</td>\n",
       "      <td>7029</td>\n",
       "    </tr>\n",
       "  </tbody>\n",
       "</table>\n",
       "</div>"
      ],
      "text/plain": [
       "                            Text Emotion\n",
       "count                      21459   21459\n",
       "unique                     21405       6\n",
       "top     i feel so tortured by it   happy\n",
       "freq                           2    7029"
      ]
     },
     "execution_count": 14,
     "metadata": {},
     "output_type": "execute_result"
    }
   ],
   "source": [
    "data.describe()"
   ]
  },
  {
   "cell_type": "code",
   "execution_count": 6,
   "metadata": {},
   "outputs": [
    {
     "data": {
      "text/html": [
       "<div>\n",
       "<style scoped>\n",
       "    .dataframe tbody tr th:only-of-type {\n",
       "        vertical-align: middle;\n",
       "    }\n",
       "\n",
       "    .dataframe tbody tr th {\n",
       "        vertical-align: top;\n",
       "    }\n",
       "\n",
       "    .dataframe thead th {\n",
       "        text-align: right;\n",
       "    }\n",
       "</style>\n",
       "<table border=\"1\" class=\"dataframe\">\n",
       "  <thead>\n",
       "    <tr style=\"text-align: right;\">\n",
       "      <th></th>\n",
       "      <th>Text</th>\n",
       "      <th>Emotion</th>\n",
       "    </tr>\n",
       "  </thead>\n",
       "  <tbody>\n",
       "    <tr>\n",
       "      <th>0</th>\n",
       "      <td>i didnt feel humiliated</td>\n",
       "      <td>sadness</td>\n",
       "    </tr>\n",
       "    <tr>\n",
       "      <th>1</th>\n",
       "      <td>i can go from feeling so hopeless to so damned...</td>\n",
       "      <td>sadness</td>\n",
       "    </tr>\n",
       "    <tr>\n",
       "      <th>2</th>\n",
       "      <td>im grabbing a minute to post i feel greedy wrong</td>\n",
       "      <td>anger</td>\n",
       "    </tr>\n",
       "    <tr>\n",
       "      <th>3</th>\n",
       "      <td>i am ever feeling nostalgic about the fireplac...</td>\n",
       "      <td>love</td>\n",
       "    </tr>\n",
       "    <tr>\n",
       "      <th>4</th>\n",
       "      <td>i am feeling grouchy</td>\n",
       "      <td>anger</td>\n",
       "    </tr>\n",
       "  </tbody>\n",
       "</table>\n",
       "</div>"
      ],
      "text/plain": [
       "                                                Text  Emotion\n",
       "0                            i didnt feel humiliated  sadness\n",
       "1  i can go from feeling so hopeless to so damned...  sadness\n",
       "2   im grabbing a minute to post i feel greedy wrong    anger\n",
       "3  i am ever feeling nostalgic about the fireplac...     love\n",
       "4                               i am feeling grouchy    anger"
      ]
     },
     "execution_count": 6,
     "metadata": {},
     "output_type": "execute_result"
    }
   ],
   "source": [
    "data.head()"
   ]
  },
  {
   "cell_type": "code",
   "execution_count": 7,
   "metadata": {},
   "outputs": [
    {
     "data": {
      "text/plain": [
       "Text       21405\n",
       "Emotion        6\n",
       "dtype: int64"
      ]
     },
     "execution_count": 7,
     "metadata": {},
     "output_type": "execute_result"
    }
   ],
   "source": [
    "data.nunique()"
   ]
  },
  {
   "cell_type": "code",
   "execution_count": 10,
   "metadata": {},
   "outputs": [
    {
     "data": {
      "text/plain": [
       "array(['sadness', 'anger', 'love', 'surprise', 'fear', 'happy'],\n",
       "      dtype=object)"
      ]
     },
     "execution_count": 10,
     "metadata": {},
     "output_type": "execute_result"
    }
   ],
   "source": [
    "data['Emotion'].unique()"
   ]
  },
  {
   "attachments": {},
   "cell_type": "markdown",
   "metadata": {},
   "source": [
    "# Analyse"
   ]
  },
  {
   "attachments": {},
   "cell_type": "markdown",
   "metadata": {},
   "source": [
    "### Etudier la répartition des textes par émotions"
   ]
  },
  {
   "cell_type": "code",
   "execution_count": 15,
   "metadata": {},
   "outputs": [],
   "source": [
    "grouped = data.groupby(\"Emotion\")"
   ]
  },
  {
   "cell_type": "code",
   "execution_count": 21,
   "metadata": {},
   "outputs": [],
   "source": [
    "counts = grouped.count()"
   ]
  },
  {
   "cell_type": "code",
   "execution_count": 27,
   "metadata": {},
   "outputs": [],
   "source": [
    "percentage = counts / len(data)"
   ]
  },
  {
   "cell_type": "code",
   "execution_count": 28,
   "metadata": {},
   "outputs": [
    {
     "data": {
      "text/html": [
       "<div>\n",
       "<style scoped>\n",
       "    .dataframe tbody tr th:only-of-type {\n",
       "        vertical-align: middle;\n",
       "    }\n",
       "\n",
       "    .dataframe tbody tr th {\n",
       "        vertical-align: top;\n",
       "    }\n",
       "\n",
       "    .dataframe thead th {\n",
       "        text-align: right;\n",
       "    }\n",
       "</style>\n",
       "<table border=\"1\" class=\"dataframe\">\n",
       "  <thead>\n",
       "    <tr style=\"text-align: right;\">\n",
       "      <th></th>\n",
       "      <th>Text</th>\n",
       "    </tr>\n",
       "    <tr>\n",
       "      <th>Emotion</th>\n",
       "      <th></th>\n",
       "    </tr>\n",
       "  </thead>\n",
       "  <tbody>\n",
       "    <tr>\n",
       "      <th>anger</th>\n",
       "      <td>0.14</td>\n",
       "    </tr>\n",
       "    <tr>\n",
       "      <th>fear</th>\n",
       "      <td>0.12</td>\n",
       "    </tr>\n",
       "    <tr>\n",
       "      <th>happy</th>\n",
       "      <td>0.33</td>\n",
       "    </tr>\n",
       "    <tr>\n",
       "      <th>love</th>\n",
       "      <td>0.08</td>\n",
       "    </tr>\n",
       "    <tr>\n",
       "      <th>sadness</th>\n",
       "      <td>0.29</td>\n",
       "    </tr>\n",
       "    <tr>\n",
       "      <th>surprise</th>\n",
       "      <td>0.04</td>\n",
       "    </tr>\n",
       "  </tbody>\n",
       "</table>\n",
       "</div>"
      ],
      "text/plain": [
       "          Text\n",
       "Emotion       \n",
       "anger     0.14\n",
       "fear      0.12\n",
       "happy     0.33\n",
       "love      0.08\n",
       "sadness   0.29\n",
       "surprise  0.04"
      ]
     },
     "execution_count": 28,
     "metadata": {},
     "output_type": "execute_result"
    }
   ],
   "source": [
    "percentage.round(2)"
   ]
  },
  {
   "attachments": {},
   "cell_type": "markdown",
   "metadata": {},
   "source": [
    "### Identifiez quels mots sont susceptibles d'être des stopword"
   ]
  },
  {
   "cell_type": "code",
   "execution_count": 31,
   "metadata": {},
   "outputs": [],
   "source": [
    "all_text = ' '.join(data['Text'].tolist())\n"
   ]
  },
  {
   "cell_type": "code",
   "execution_count": 35,
   "metadata": {},
   "outputs": [],
   "source": [
    "tokens = word_tokenize(all_text)\n"
   ]
  },
  {
   "cell_type": "code",
   "execution_count": 38,
   "metadata": {},
   "outputs": [],
   "source": [
    "stopwords_list = set(stopwords.words('english'))  \n",
    "\n",
    "# Remplacez 'langue' par la langue appropriée (par exemple, 'english' pour l'anglais)\n"
   ]
  },
  {
   "cell_type": "code",
   "execution_count": 39,
   "metadata": {},
   "outputs": [],
   "source": [
    "suspected_stopwords = [word.lower() for word in tokens if word.lower() in stopwords_list]\n"
   ]
  },
  {
   "cell_type": "code",
   "execution_count": 46,
   "metadata": {},
   "outputs": [
    {
     "data": {
      "text/plain": [
       "i             32529\n",
       "and           12721\n",
       "to            11835\n",
       "the           11808\n",
       "a              8333\n",
       "              ...  \n",
       "ain               3\n",
       "theirs            3\n",
       "ours              2\n",
       "weren             2\n",
       "yourselves        2\n",
       "Name: count, Length: 149, dtype: int64"
      ]
     },
     "execution_count": 46,
     "metadata": {},
     "output_type": "execute_result"
    }
   ],
   "source": [
    "word_counts = pd.Series(suspected_stopwords).value_counts()\n",
    "\n",
    "word_counts"
   ]
  },
  {
   "attachments": {},
   "cell_type": "markdown",
   "metadata": {},
   "source": [
    "### Pour chaque sentiment : \n",
    " - identifiez les 30 mots les plus courants en dehors des stopwords"
   ]
  },
  {
   "cell_type": "code",
   "execution_count": 75,
   "metadata": {},
   "outputs": [
    {
     "data": {
      "text/html": [
       "<div>\n",
       "<style scoped>\n",
       "    .dataframe tbody tr th:only-of-type {\n",
       "        vertical-align: middle;\n",
       "    }\n",
       "\n",
       "    .dataframe tbody tr th {\n",
       "        vertical-align: top;\n",
       "    }\n",
       "\n",
       "    .dataframe thead th {\n",
       "        text-align: right;\n",
       "    }\n",
       "</style>\n",
       "<table border=\"1\" class=\"dataframe\">\n",
       "  <thead>\n",
       "    <tr style=\"text-align: right;\">\n",
       "      <th></th>\n",
       "      <th>1</th>\n",
       "      <th>2</th>\n",
       "      <th>3</th>\n",
       "      <th>4</th>\n",
       "      <th>5</th>\n",
       "      <th>6</th>\n",
       "      <th>7</th>\n",
       "      <th>8</th>\n",
       "      <th>9</th>\n",
       "      <th>10</th>\n",
       "      <th>...</th>\n",
       "      <th>21</th>\n",
       "      <th>22</th>\n",
       "      <th>23</th>\n",
       "      <th>24</th>\n",
       "      <th>25</th>\n",
       "      <th>26</th>\n",
       "      <th>27</th>\n",
       "      <th>28</th>\n",
       "      <th>29</th>\n",
       "      <th>30</th>\n",
       "    </tr>\n",
       "  </thead>\n",
       "  <tbody>\n",
       "    <tr>\n",
       "      <th>sadness</th>\n",
       "      <td>feel</td>\n",
       "      <td>feeling</td>\n",
       "      <td>like</td>\n",
       "      <td>im</td>\n",
       "      <td>,</td>\n",
       "      <td>really</td>\n",
       "      <td>know</td>\n",
       "      <td>get</td>\n",
       "      <td>would</td>\n",
       "      <td>time</td>\n",
       "      <td>...</td>\n",
       "      <td>things</td>\n",
       "      <td>much</td>\n",
       "      <td>dont</td>\n",
       "      <td>make</td>\n",
       "      <td>day</td>\n",
       "      <td>something</td>\n",
       "      <td>back</td>\n",
       "      <td>going</td>\n",
       "      <td>way</td>\n",
       "      <td>could</td>\n",
       "    </tr>\n",
       "    <tr>\n",
       "      <th>anger</th>\n",
       "      <td>feel</td>\n",
       "      <td>feeling</td>\n",
       "      <td>like</td>\n",
       "      <td>im</td>\n",
       "      <td>,</td>\n",
       "      <td>really</td>\n",
       "      <td>get</td>\n",
       "      <td>people</td>\n",
       "      <td>know</td>\n",
       "      <td>time</td>\n",
       "      <td>...</td>\n",
       "      <td>way</td>\n",
       "      <td>offended</td>\n",
       "      <td>dont</td>\n",
       "      <td>resentful</td>\n",
       "      <td>cold</td>\n",
       "      <td>something</td>\n",
       "      <td>still</td>\n",
       "      <td>irritable</td>\n",
       "      <td>cant</td>\n",
       "      <td>going</td>\n",
       "    </tr>\n",
       "    <tr>\n",
       "      <th>love</th>\n",
       "      <td>feel</td>\n",
       "      <td>feeling</td>\n",
       "      <td>like</td>\n",
       "      <td>im</td>\n",
       "      <td>love</td>\n",
       "      <td>really</td>\n",
       "      <td>know</td>\n",
       "      <td>sweet</td>\n",
       "      <td>time</td>\n",
       "      <td>loving</td>\n",
       "      <td>...</td>\n",
       "      <td>little</td>\n",
       "      <td>feelings</td>\n",
       "      <td>tender</td>\n",
       "      <td>longing</td>\n",
       "      <td>lovely</td>\n",
       "      <td>loved</td>\n",
       "      <td>would</td>\n",
       "      <td>need</td>\n",
       "      <td>accepted</td>\n",
       "      <td>horny</td>\n",
       "    </tr>\n",
       "    <tr>\n",
       "      <th>surprise</th>\n",
       "      <td>feel</td>\n",
       "      <td>feeling</td>\n",
       "      <td>,</td>\n",
       "      <td>like</td>\n",
       "      <td>im</td>\n",
       "      <td>amazed</td>\n",
       "      <td>curious</td>\n",
       "      <td>impressed</td>\n",
       "      <td>overwhelmed</td>\n",
       "      <td>surprised</td>\n",
       "      <td>...</td>\n",
       "      <td>stunned</td>\n",
       "      <td>bit</td>\n",
       "      <td>people</td>\n",
       "      <td>know</td>\n",
       "      <td>would</td>\n",
       "      <td>think</td>\n",
       "      <td>one</td>\n",
       "      <td>feels</td>\n",
       "      <td>much</td>\n",
       "      <td>could</td>\n",
       "    </tr>\n",
       "    <tr>\n",
       "      <th>fear</th>\n",
       "      <td>feel</td>\n",
       "      <td>feeling</td>\n",
       "      <td>im</td>\n",
       "      <td>like</td>\n",
       "      <td>,</td>\n",
       "      <td>little</td>\n",
       "      <td>bit</td>\n",
       "      <td>know</td>\n",
       "      <td>really</td>\n",
       "      <td>anxious</td>\n",
       "      <td>...</td>\n",
       "      <td>going</td>\n",
       "      <td>terrified</td>\n",
       "      <td>afraid</td>\n",
       "      <td>ive</td>\n",
       "      <td>agitated</td>\n",
       "      <td>scared</td>\n",
       "      <td>frightened</td>\n",
       "      <td>go</td>\n",
       "      <td>weird</td>\n",
       "      <td>things</td>\n",
       "    </tr>\n",
       "    <tr>\n",
       "      <th>happy</th>\n",
       "      <td>feel</td>\n",
       "      <td>feeling</td>\n",
       "      <td>like</td>\n",
       "      <td>im</td>\n",
       "      <td>really</td>\n",
       "      <td>time</td>\n",
       "      <td>know</td>\n",
       "      <td>get</td>\n",
       "      <td>,</td>\n",
       "      <td>make</td>\n",
       "      <td>...</td>\n",
       "      <td>life</td>\n",
       "      <td>love</td>\n",
       "      <td>even</td>\n",
       "      <td>going</td>\n",
       "      <td>ive</td>\n",
       "      <td>happy</td>\n",
       "      <td>day</td>\n",
       "      <td>could</td>\n",
       "      <td>still</td>\n",
       "      <td>well</td>\n",
       "    </tr>\n",
       "  </tbody>\n",
       "</table>\n",
       "<p>6 rows × 30 columns</p>\n",
       "</div>"
      ],
      "text/plain": [
       "            1        2     3     4       5       6        7          8   \\\n",
       "sadness   feel  feeling  like    im       ,  really     know        get   \n",
       "anger     feel  feeling  like    im       ,  really      get     people   \n",
       "love      feel  feeling  like    im    love  really     know      sweet   \n",
       "surprise  feel  feeling     ,  like      im  amazed  curious  impressed   \n",
       "fear      feel  feeling    im  like       ,  little      bit       know   \n",
       "happy     feel  feeling  like    im  really    time     know        get   \n",
       "\n",
       "                   9          10  ...       21         22      23         24  \\\n",
       "sadness         would       time  ...   things       much    dont       make   \n",
       "anger            know       time  ...      way   offended    dont  resentful   \n",
       "love             time     loving  ...   little   feelings  tender    longing   \n",
       "surprise  overwhelmed  surprised  ...  stunned        bit  people       know   \n",
       "fear           really    anxious  ...    going  terrified  afraid        ive   \n",
       "happy               ,       make  ...     life       love    even      going   \n",
       "\n",
       "                25         26          27         28        29      30  \n",
       "sadness        day  something        back      going       way   could  \n",
       "anger         cold  something       still  irritable      cant   going  \n",
       "love        lovely      loved       would       need  accepted   horny  \n",
       "surprise     would      think         one      feels      much   could  \n",
       "fear      agitated     scared  frightened         go     weird  things  \n",
       "happy          ive      happy         day      could     still    well  \n",
       "\n",
       "[6 rows x 30 columns]"
      ]
     },
     "execution_count": 75,
     "metadata": {},
     "output_type": "execute_result"
    }
   ],
   "source": [
    "def get_top_words(text, n=30):\n",
    "    tokens = word_tokenize(text)\n",
    "    filtered_tokens = [word.lower() for word in tokens if word.lower() not in stopwords_list]\n",
    "    word_counts = pd.Series(filtered_tokens).value_counts().rename_axis('Mots').reset_index(name='Occurrences')\n",
    "    top_words = word_counts.head(n)\n",
    "    return top_words\n",
    "\n",
    "# Créer un dictionnaire pour stocker les données des émotions\n",
    "emotion_data = {}\n",
    "\n",
    "# Itérer sur chaque émotion et obtenir les mots les plus courants\n",
    "for emotion in data['Emotion'].unique():\n",
    "    group = data[data['Emotion'] == emotion]\n",
    "    top_words = get_top_words(' '.join(group['Text'].tolist()))\n",
    "    emotion_data[emotion] = top_words['Mots']\n",
    "\n",
    "# Créer un DataFrame à partir du dictionnaire des données d'émotion\n",
    "text_top30_words = pd.DataFrame(emotion_data)\n",
    "\n",
    "# Transposer le DataFrame pour échanger les index et les colonnes\n",
    "text_top30_words = text_top30_words.transpose()\n",
    "\n",
    "# Renommer les colonnes de 1 à 30 avec les numéros correspondants\n",
    "text_top30_words.columns = range(1, 31)\n",
    "\n",
    "# Afficher le DataFrame\n",
    "text_top30_words"
   ]
  },
  {
   "cell_type": "code",
   "execution_count": 77,
   "metadata": {},
   "outputs": [
    {
     "data": {
      "text/html": [
       "<div>\n",
       "<style scoped>\n",
       "    .dataframe tbody tr th:only-of-type {\n",
       "        vertical-align: middle;\n",
       "    }\n",
       "\n",
       "    .dataframe tbody tr th {\n",
       "        vertical-align: top;\n",
       "    }\n",
       "\n",
       "    .dataframe thead th {\n",
       "        text-align: right;\n",
       "    }\n",
       "</style>\n",
       "<table border=\"1\" class=\"dataframe\">\n",
       "  <thead>\n",
       "    <tr style=\"text-align: right;\">\n",
       "      <th></th>\n",
       "      <th>0</th>\n",
       "      <th>1</th>\n",
       "      <th>2</th>\n",
       "      <th>3</th>\n",
       "      <th>4</th>\n",
       "      <th>5</th>\n",
       "      <th>6</th>\n",
       "      <th>7</th>\n",
       "      <th>8</th>\n",
       "      <th>9</th>\n",
       "      <th>...</th>\n",
       "      <th>20</th>\n",
       "      <th>21</th>\n",
       "      <th>22</th>\n",
       "      <th>23</th>\n",
       "      <th>24</th>\n",
       "      <th>25</th>\n",
       "      <th>26</th>\n",
       "      <th>27</th>\n",
       "      <th>28</th>\n",
       "      <th>29</th>\n",
       "    </tr>\n",
       "  </thead>\n",
       "  <tbody>\n",
       "    <tr>\n",
       "      <th>sadness</th>\n",
       "      <td>4095</td>\n",
       "      <td>1924</td>\n",
       "      <td>1078</td>\n",
       "      <td>875</td>\n",
       "      <td>447</td>\n",
       "      <td>352</td>\n",
       "      <td>344</td>\n",
       "      <td>289</td>\n",
       "      <td>273</td>\n",
       "      <td>270</td>\n",
       "      <td>...</td>\n",
       "      <td>194</td>\n",
       "      <td>191</td>\n",
       "      <td>190</td>\n",
       "      <td>183</td>\n",
       "      <td>177</td>\n",
       "      <td>170</td>\n",
       "      <td>167</td>\n",
       "      <td>164</td>\n",
       "      <td>162</td>\n",
       "      <td>159</td>\n",
       "    </tr>\n",
       "    <tr>\n",
       "      <th>anger</th>\n",
       "      <td>1803</td>\n",
       "      <td>923</td>\n",
       "      <td>479</td>\n",
       "      <td>426</td>\n",
       "      <td>248</td>\n",
       "      <td>171</td>\n",
       "      <td>154</td>\n",
       "      <td>150</td>\n",
       "      <td>149</td>\n",
       "      <td>146</td>\n",
       "      <td>...</td>\n",
       "      <td>102</td>\n",
       "      <td>92</td>\n",
       "      <td>91</td>\n",
       "      <td>87</td>\n",
       "      <td>86</td>\n",
       "      <td>85</td>\n",
       "      <td>85</td>\n",
       "      <td>84</td>\n",
       "      <td>83</td>\n",
       "      <td>81</td>\n",
       "    </tr>\n",
       "    <tr>\n",
       "      <th>love</th>\n",
       "      <td>1180</td>\n",
       "      <td>471</td>\n",
       "      <td>393</td>\n",
       "      <td>251</td>\n",
       "      <td>119</td>\n",
       "      <td>112</td>\n",
       "      <td>101</td>\n",
       "      <td>84</td>\n",
       "      <td>82</td>\n",
       "      <td>82</td>\n",
       "      <td>...</td>\n",
       "      <td>67</td>\n",
       "      <td>66</td>\n",
       "      <td>64</td>\n",
       "      <td>63</td>\n",
       "      <td>63</td>\n",
       "      <td>62</td>\n",
       "      <td>62</td>\n",
       "      <td>61</td>\n",
       "      <td>60</td>\n",
       "      <td>59</td>\n",
       "    </tr>\n",
       "    <tr>\n",
       "      <th>surprise</th>\n",
       "      <td>464</td>\n",
       "      <td>261</td>\n",
       "      <td>138</td>\n",
       "      <td>121</td>\n",
       "      <td>113</td>\n",
       "      <td>83</td>\n",
       "      <td>72</td>\n",
       "      <td>72</td>\n",
       "      <td>69</td>\n",
       "      <td>68</td>\n",
       "      <td>...</td>\n",
       "      <td>43</td>\n",
       "      <td>40</td>\n",
       "      <td>37</td>\n",
       "      <td>35</td>\n",
       "      <td>35</td>\n",
       "      <td>33</td>\n",
       "      <td>30</td>\n",
       "      <td>30</td>\n",
       "      <td>29</td>\n",
       "      <td>28</td>\n",
       "    </tr>\n",
       "    <tr>\n",
       "      <th>fear</th>\n",
       "      <td>1483</td>\n",
       "      <td>926</td>\n",
       "      <td>383</td>\n",
       "      <td>322</td>\n",
       "      <td>230</td>\n",
       "      <td>194</td>\n",
       "      <td>143</td>\n",
       "      <td>139</td>\n",
       "      <td>129</td>\n",
       "      <td>126</td>\n",
       "      <td>...</td>\n",
       "      <td>89</td>\n",
       "      <td>89</td>\n",
       "      <td>85</td>\n",
       "      <td>85</td>\n",
       "      <td>84</td>\n",
       "      <td>83</td>\n",
       "      <td>82</td>\n",
       "      <td>81</td>\n",
       "      <td>79</td>\n",
       "      <td>77</td>\n",
       "    </tr>\n",
       "    <tr>\n",
       "      <th>happy</th>\n",
       "      <td>4948</td>\n",
       "      <td>1956</td>\n",
       "      <td>1266</td>\n",
       "      <td>1007</td>\n",
       "      <td>381</td>\n",
       "      <td>370</td>\n",
       "      <td>323</td>\n",
       "      <td>311</td>\n",
       "      <td>276</td>\n",
       "      <td>276</td>\n",
       "      <td>...</td>\n",
       "      <td>235</td>\n",
       "      <td>231</td>\n",
       "      <td>223</td>\n",
       "      <td>219</td>\n",
       "      <td>216</td>\n",
       "      <td>212</td>\n",
       "      <td>206</td>\n",
       "      <td>206</td>\n",
       "      <td>201</td>\n",
       "      <td>187</td>\n",
       "    </tr>\n",
       "  </tbody>\n",
       "</table>\n",
       "<p>6 rows × 30 columns</p>\n",
       "</div>"
      ],
      "text/plain": [
       "            0     1     2     3    4    5    6    7    8    9   ...   20   21  \\\n",
       "sadness   4095  1924  1078   875  447  352  344  289  273  270  ...  194  191   \n",
       "anger     1803   923   479   426  248  171  154  150  149  146  ...  102   92   \n",
       "love      1180   471   393   251  119  112  101   84   82   82  ...   67   66   \n",
       "surprise   464   261   138   121  113   83   72   72   69   68  ...   43   40   \n",
       "fear      1483   926   383   322  230  194  143  139  129  126  ...   89   89   \n",
       "happy     4948  1956  1266  1007  381  370  323  311  276  276  ...  235  231   \n",
       "\n",
       "           22   23   24   25   26   27   28   29  \n",
       "sadness   190  183  177  170  167  164  162  159  \n",
       "anger      91   87   86   85   85   84   83   81  \n",
       "love       64   63   63   62   62   61   60   59  \n",
       "surprise   37   35   35   33   30   30   29   28  \n",
       "fear       85   85   84   83   82   81   79   77  \n",
       "happy     223  219  216  212  206  206  201  187  \n",
       "\n",
       "[6 rows x 30 columns]"
      ]
     },
     "execution_count": 77,
     "metadata": {},
     "output_type": "execute_result"
    }
   ],
   "source": [
    "def get_top_words(text, n=30):\n",
    "    tokens = word_tokenize(text)\n",
    "    filtered_tokens = [word.lower() for word in tokens if word.lower() not in stopwords_list]\n",
    "    word_counts = pd.Series(filtered_tokens).value_counts().rename_axis('Mots').reset_index(name='Occurrences')\n",
    "    top_words = word_counts.head(n)\n",
    "    return top_words\n",
    "\n",
    "emotion_data = {}\n",
    "\n",
    "# Itérer sur chaque émotion et obtenir les mots les plus courants\n",
    "for emotion in data['Emotion'].unique():\n",
    "    group = data[data['Emotion'] == emotion]\n",
    "    top_words = get_top_words(' '.join(group['Text'].tolist()))\n",
    "    emotion_data[emotion] = top_words['Occurrences']\n",
    "\n",
    "# Créer un DataFrame à partir du dictionnaire des données d'émotion\n",
    "number_top30_words = pd.DataFrame(emotion_data)\n",
    "\n",
    "number_top30_words = number_top30_words.transpose()\n",
    "\n",
    "# Afficher le DataFrame\n",
    "number_top30_words "
   ]
  }
 ],
 "metadata": {
  "kernelspec": {
   "display_name": "nlp-env",
   "language": "python",
   "name": "python3"
  },
  "language_info": {
   "codemirror_mode": {
    "name": "ipython",
    "version": 3
   },
   "file_extension": ".py",
   "mimetype": "text/x-python",
   "name": "python",
   "nbconvert_exporter": "python",
   "pygments_lexer": "ipython3",
   "version": "3.10.10"
  },
  "orig_nbformat": 4,
  "vscode": {
   "interpreter": {
    "hash": "ad8af40f3bdd8cde4ab93fab1122f739a205e2e7869cfe0b4c6dd55936b6db87"
   }
  }
 },
 "nbformat": 4,
 "nbformat_minor": 2
}
