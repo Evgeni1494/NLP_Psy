{
 "cells": [
  {
   "cell_type": "code",
   "execution_count": null,
   "metadata": {},
   "outputs": [],
   "source": []
  }
 ],
 "metadata": {
  "kernelspec": {
   "display_name": "nlp",
   "language": "python",
   "name": "python3"
  },
  "language_info": {
   "name": "python",
   "version": "3.10.8 (main, Nov 24 2022, 14:13:03) [GCC 11.2.0]"
  },
  "orig_nbformat": 4,
  "vscode": {
   "interpreter": {
    "hash": "c38c1ea5829e88db04588f5bad7026c109f43a8637ea3347b9411be919f169d8"
   }
  }
 },
 "nbformat": 4,
 "nbformat_minor": 2
}
